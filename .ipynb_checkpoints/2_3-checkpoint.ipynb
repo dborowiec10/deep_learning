{
 "cells": [
  {
   "cell_type": "code",
   "execution_count": 1,
   "metadata": {},
   "outputs": [],
   "source": [
    "import numpy as np\n",
    "import matplotlib.pyplot as plt"
   ]
  },
  {
   "cell_type": "code",
   "execution_count": 2,
   "metadata": {},
   "outputs": [],
   "source": [
    "A = np.array([\n",
    "    [3, 0, 2], \n",
    "    [2, 0, -2], \n",
    "    [0, 1, 1]\n",
    "])"
   ]
  },
  {
   "cell_type": "code",
   "execution_count": 3,
   "metadata": {},
   "outputs": [],
   "source": [
    "# identity matrices\n",
    "# matrix that doesn't change a vector when multiplied together\n",
    "I = np.array([\n",
    "    [1, 0, 0],\n",
    "    [0, 1, 0],\n",
    "    [0, 0, 1]\n",
    "])"
   ]
  },
  {
   "cell_type": "code",
   "execution_count": 4,
   "metadata": {},
   "outputs": [],
   "source": [
    "# matrix inverse A = A^-1 = I\n",
    "Ai = np.linalg.inv(A)\n",
    "# then A @ A should = I"
   ]
  },
  {
   "cell_type": "code",
   "execution_count": 5,
   "metadata": {},
   "outputs": [],
   "source": [
    "# solving linear equations using matrix inverse\n",
    "# i.e. Ax = b\n",
    "# by adding inverse of A to each term\n",
    "# i.e. A^-1Ax = A^-1b\n",
    "# i.e. Ix = A^-1b\n",
    "# identity matrix doesn't change a vector so...\n",
    "# x = A^-1b"
   ]
  },
  {
   "cell_type": "code",
   "execution_count": 6,
   "metadata": {},
   "outputs": [],
   "source": [
    "# equation example\n",
    "# y = 2x\n",
    "# y = -x + 3"
   ]
  },
  {
   "cell_type": "code",
   "execution_count": 7,
   "metadata": {},
   "outputs": [],
   "source": [
    "# notation...\n",
    "# A1,:x = b1   =   A1,1x1 + A1,2x2 + ... + A1,nxn = b1\n",
    "# A2,:x = b2\n",
    "# Am,:x = bm"
   ]
  },
  {
   "cell_type": "code",
   "execution_count": 8,
   "metadata": {},
   "outputs": [],
   "source": [
    "# applying notation\n",
    "# y = 2x --> 2x - y = 0 --> 2x1 - x2 = 0 where x1 = x and x2 = y\n",
    "# y = -x + 3 --> x + y = 3 --> x1 + x2 = 3 where x1 = x and x2 = y\n",
    "# thus matrix of weights is\n",
    "Amatrix = np.array([\n",
    "    [2, -1],\n",
    "    [1,  1]\n",
    "])"
   ]
  },
  {
   "cell_type": "code",
   "execution_count": 9,
   "metadata": {},
   "outputs": [],
   "source": [
    "Bvector = np.array([0, 3])\n",
    "# as such Ax = b --> Amatrix @ x = Bvector"
   ]
  },
  {
   "cell_type": "code",
   "execution_count": 10,
   "metadata": {},
   "outputs": [],
   "source": [
    "# finding inverse of Amatrix\n",
    "Amatrix_inv = np.linalg.inv(Amatrix)"
   ]
  },
  {
   "cell_type": "code",
   "execution_count": 11,
   "metadata": {},
   "outputs": [
    {
     "name": "stdout",
     "output_type": "stream",
     "text": [
      "[1. 2.]\n"
     ]
    }
   ],
   "source": [
    "# thus\n",
    "Xvector = Amatrix_inv @ Bvector"
   ]
  },
  {
   "cell_type": "code",
   "execution_count": 12,
   "metadata": {},
   "outputs": [],
   "source": [
    "# plotting\n",
    "x = np.arange(-10, 10)\n",
    "y = 2*x\n",
    "y1 = -x + 3"
   ]
  },
  {
   "cell_type": "code",
   "execution_count": null,
   "metadata": {},
   "outputs": [],
   "source": [
    "plt.figure()\n",
    "plt.plot(x, y)\n",
    "plt.plot(x, y1)\n",
    "plt.xlim(0, 3)\n",
    "plt.ylim(0, 3)\n",
    "plt.axvline(x=0, color='grey')\n",
    "plt.axhline(y=0, color='grey')"
   ]
  }
 ],
 "metadata": {
  "kernelspec": {
   "display_name": "Python 3",
   "language": "python",
   "name": "python3"
  },
  "language_info": {
   "codemirror_mode": {
    "name": "ipython",
    "version": 3
   },
   "file_extension": ".py",
   "mimetype": "text/x-python",
   "name": "python",
   "nbconvert_exporter": "python",
   "pygments_lexer": "ipython3",
   "version": "3.8.3"
  }
 },
 "nbformat": 4,
 "nbformat_minor": 4
}
