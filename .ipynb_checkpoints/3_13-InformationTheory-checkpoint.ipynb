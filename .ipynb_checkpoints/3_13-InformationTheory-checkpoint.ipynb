{
 "cells": [
  {
   "cell_type": "code",
   "execution_count": null,
   "metadata": {},
   "outputs": [],
   "source": [
    "# Information Theory:\n",
    "\n",
    "# The basic intuition behind information theory is that learning that an unlikely event has occurred is more informative than learning that a likely event has occurred.\n",
    "# A message saying “the sun rose this morning” is so uninformative as to be unnecessary to send, but a message saying “there was a solar eclipse this morning” is very informative.\n",
    "\n",
    "# We want to formalize this:\n",
    "\n",
    "# # Likely events should have low information content, and in the extreme case, events that are guaranteed to happen should have no information content whatsoever.\n",
    "# # Less likely events should have higher information content.\n",
    "# # Independent events should have additive information. \n",
    "# # # For example, finding out that a tossed coin has come up as heads twice should convey twice as much information as finding out that a tossed coin has come up as heads once.\n",
    "\n",
    "# Thus, to satisfy these properties, we define self-information of an event x = x to be:\n",
    "# I(x) = -log P(x)   --> natural logarithm, with base e.\n",
    "# I is thus expressed in \"nats\"\n",
    "# 1 nat is the amount of information gained by observing event of probability 1/e\n",
    "\n",
    "# # This can be seen in literature as \"bits\" or \"shannons\" with the use of base-2 logarithms\n",
    "# # Information measured in \"bits\" is a rescale of information measured in \"nats\""
   ]
  }
 ],
 "metadata": {
  "kernelspec": {
   "display_name": "Python 3",
   "language": "python",
   "name": "python3"
  },
  "language_info": {
   "codemirror_mode": {
    "name": "ipython",
    "version": 3
   },
   "file_extension": ".py",
   "mimetype": "text/x-python",
   "name": "python",
   "nbconvert_exporter": "python",
   "pygments_lexer": "ipython3",
   "version": "3.8.3"
  }
 },
 "nbformat": 4,
 "nbformat_minor": 4
}
